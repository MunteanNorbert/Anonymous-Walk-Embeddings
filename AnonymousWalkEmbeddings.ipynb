{
 "cells": [
  {
   "cell_type": "markdown",
   "id": "b12d1aea-d7b5-4516-82b1-42dc98b62b06",
   "metadata": {},
   "source": [
    "# Theory"
   ]
  },
  {
   "cell_type": "markdown",
   "id": "9861d410-6cbc-4ae0-b85e-e97799814afa",
   "metadata": {},
   "source": [
    "[Anonymous Walk Embeddings](https://arxiv.org/abs/1805.11921)\n",
    "\n",
    "[Helpful Explanation Video](https://www.youtube.com/watch?v=VVml3nDiM3E)"
   ]
  },
  {
   "cell_type": "markdown",
   "id": "c5779467-1e77-4781-af81-bc4b0c0b19ca",
   "metadata": {},
   "source": [
    "## Introduction"
   ]
  },
  {
   "cell_type": "markdown",
   "id": "15c2451f-dd89-498c-a789-adf1418b9686",
   "metadata": {},
   "source": [
    "**Random Walks**  \n",
    "Random walks are the sequences of nodes, where each new node is selected independently from the set of neighbors of the last node in the sequence. "
   ]
  },
  {
   "cell_type": "markdown",
   "id": "5db59ded-1e1e-4785-8acb-e2683418bcc2",
   "metadata": {},
   "source": [
    "Let $s = (u_1, u_2, . . . , u_k)$ be an ordered\n",
    "list of elements $u_i \\in \\mathcal V$ ($u_i$ is a Vertex from the Graph). We define the positional function pos: $(s, u_i) → q$ such that for any ordered list $s = (u_1, u_2, . . . , u_k)$ and an element $u_i \\in \\mathcal V$ it returns a list $q = (p_1, p_2, . . . , p_l)$ of all positions $p_j \\in \\mathcal N$ of $u_i$ occurrences in a list $s$.\n",
    "\n",
    "**For example**\n",
    "\n",
    "If $s = (a, b, c, b, c)$ , then $pos(s, a) = (1)$ as element a appears only on the first position and $pos(s, b) =\n",
    "(2, 4)$ as element b appears on the second and forth position.\n",
    "\n"
   ]
  },
  {
   "cell_type": "markdown",
   "id": "4a0a5a5c-7ee9-4c1d-8a0f-aab4c4a9cfe2",
   "metadata": {},
   "source": [
    "**Anonymous Walks**\n",
    "\n",
    "If $w = (v_1, v_2, . . . , v_k)$ is a random walk, then its corresponding anonymous walk is the sequence of integers $a = (f(v_1)$ , $f(v_2), . . . , f(v_k))$ , where integer $f(v_i) = min pos(w, v_i)$.\n",
    "We denote mapping of $a$ random walk $w$ to anonymous walk $a$ by $w → a$.\n",
    "\n"
   ]
  },
  {
   "cell_type": "markdown",
   "id": "134b2182-469d-4f4b-a367-e24223b6d23d",
   "metadata": {},
   "source": [
    "![Random Walk to Anonymous Walk](image1.png)"
   ]
  },
  {
   "cell_type": "markdown",
   "id": "c15b6218-8c93-47c9-afd7-b9ec0b64e8ea",
   "metadata": {},
   "source": [
    "Let $A_l =(a_1^u, a_2^u, . . . , a_η^u)$ be the set of all possible anonymous walks of length $l$ ($η$ is the number of all possible anonymous walks of length $l$). Anonymous walk embedding of a graph $G$ is the vector $f_G$ of size $η$, whose i-th component corresponds to a probability $p(a_i)$, of having anonymous walk $a_i$ in a graph $G$:\n",
    "$$f_G = (p(a_1), p(a_2), . . . , p(a_η)).$$"
   ]
  },
  {
   "cell_type": "markdown",
   "id": "fc8542b2-f1d0-471f-90fc-3aae7a9036ef",
   "metadata": {},
   "source": [
    "The probability of having a random walk in a Graph is the product of the weight of the edges.\n",
    "Where $w$ is a random walk.\n",
    "\n",
    "![Probability of choosing a Random Walk](image5.png)"
   ]
  },
  {
   "cell_type": "markdown",
   "id": "4f3f2c77-836c-4221-9af6-dfb84910e420",
   "metadata": {},
   "source": [
    "The Probability of seeing an Anonymous Walk from the set: $A_l^u =(a_1, a_2, . . . , a_η)$.\n",
    "\n",
    "![Probability of choosing a Random Walk](image4.png)"
   ]
  },
  {
   "cell_type": "markdown",
   "id": "d87a7718-6763-49b6-802e-3ddb939569a8",
   "metadata": {},
   "source": [
    "Where $p(a_i)$ is :\n",
    "\n",
    "![Probability of choosing a Anonymous Walk](image3.png)"
   ]
  },
  {
   "cell_type": "markdown",
   "id": "5c49d519-6641-4bac-a23b-fc1d01b87329",
   "metadata": {},
   "source": [
    "Where $u$ is a Vertex in Graph $G$, $w_e$ is the weight of an Edge, $p(w)$ is a probability of having a random walk $w$ which is equal to the product of all the weights of that walk. $W_u^l$ are all the different random walks that start from $u$ and have length $l$."
   ]
  },
  {
   "cell_type": "markdown",
   "id": "9efaa2fb-8daf-424e-ae05-82bb3697efb9",
   "metadata": {},
   "source": [
    "![Number of Anonymous Walks of a certain Length](image2.png)"
   ]
  },
  {
   "cell_type": "markdown",
   "id": "90f23ffa-1f30-401d-a9c3-8e087929acd2",
   "metadata": {},
   "source": [
    "**MUTAG DATASET**\n",
    "\n",
    "In particular, MUTAG is a collection of nitroaromatic compounds and the goal is to predict their mutagenicity on Salmonella typhimurium. Input graphs are used to represent chemical compounds, where vertices stand for atoms and are labeled by the atom type (represented by one-hot encoding), while edges between vertices represent bonds between the corresponding atoms. It includes 188 samples of chemical compounds with 7 discrete node labels."
   ]
  },
  {
   "cell_type": "markdown",
   "id": "15ac6741-da22-40a8-bb1c-cdee403dcda9",
   "metadata": {},
   "source": [
    "## Code"
   ]
  },
  {
   "cell_type": "code",
   "execution_count": 165,
   "id": "e671f238-302c-43c6-98ee-73030d70d01d",
   "metadata": {},
   "outputs": [],
   "source": [
    "from __future__ import division\n",
    "\n",
    "import networkx as nx\n",
    "import random, time, math, os, sys\n",
    "import numpy as np\n",
    "import matplotlib.pyplot as plt\n",
    "from sklearn import svm\n",
    "from sklearn.metrics import accuracy_score\n",
    "from sklearn.model_selection import train_test_split\n",
    "import argparse\n",
    "import re\n",
    "from collections import Counter\n",
    "import linecache\n",
    "import random"
   ]
  },
  {
   "cell_type": "markdown",
   "id": "9c862a69-9e1e-4424-9906-b8ab1e404565",
   "metadata": {},
   "source": [
    "## Random Walker"
   ]
  },
  {
   "cell_type": "code",
   "execution_count": 166,
   "id": "253e8112-919c-4de4-ac08-6bc9f3345652",
   "metadata": {},
   "outputs": [],
   "source": [
    "class RandomWalker:\n",
    "    \"\"\"\n",
    "    Class to do fast first-order random walks.\n",
    "    Args:\n",
    "        walk_length (int): Number of random walks.\n",
    "        walk_number (int): Number of nodes in truncated walk.\n",
    "    \"\"\"\n",
    "\n",
    "    def __init__(self, walk_length: int, walk_number: int, G = None):\n",
    "        self.graph = G\n",
    "        self.walk_length = walk_length\n",
    "        self.walk_number = walk_number\n",
    "\n",
    "    def do_walk(self, node):\n",
    "        \"\"\"\n",
    "        Doing a single random walk from a source node.\n",
    "            node - The source node of the random walk.\n",
    "            walk(list of strings) - A single random walk.\n",
    "        \"\"\"\n",
    "        walk = [node]\n",
    "        for _ in range(self.walk_length):\n",
    "            nneighbors = [node for node in self.graph.neighbors(walk[-1])]\n",
    "            if len(nneighbors) > 0:\n",
    "                walk = walk + random.sample(nneighbors, 1)\n",
    "        walk = [str(w) for w in walk]\n",
    "        return walk\n",
    "    \n",
    "    def do_walks(self, graph):\n",
    "        \"\"\"\n",
    "        Doing a fixed number of random walks from every node in the graph.\n",
    "            graph(NetworkX graph) - The graph to run the random walks on.\n",
    "        \"\"\"\n",
    "        self.walks = []\n",
    "        self.graph = graph\n",
    "        for node in graph.nodes():\n",
    "            for _ in range(self.walk_number):\n",
    "                walk_from_node = self.do_walk(node)   #('n0') #(0)\n",
    "                self.walks.append(walk_from_node)\n",
    "        return self.walks\n"
   ]
  },
  {
   "cell_type": "markdown",
   "id": "e546bb55-b79b-48f9-a97e-610a331d31d9",
   "metadata": {},
   "source": [
    "## Anonymous Walk"
   ]
  },
  {
   "cell_type": "code",
   "execution_count": 186,
   "id": "9a064136-c276-4d1a-a493-9986ede76daf",
   "metadata": {},
   "outputs": [],
   "source": [
    "class AnonymousWalks(object):\n",
    "    '''\n",
    "    Computes Anonymous Walks of a Graph.\n",
    "    Class has a method to embed a graph into a vector space using anonymous walk distribution.\n",
    "    '''\n",
    "    def __init__(self, G = None):\n",
    "        self._graph = G\n",
    "        self.paths = dict()\n",
    "        self.__methods = ['exact']\n",
    "\n",
    "    @property\n",
    "    def graph(self):\n",
    "        return self._graph\n",
    "\n",
    "    @graph.setter\n",
    "    def graph(self, G):\n",
    "        self._graph = G\n",
    "\n",
    "    def read_graph_from_text(self, filename, header = True, weights = True, sep = ',', directed = False):\n",
    "        '''Read from Text Files.'''\n",
    "        G = nx.Graph()\n",
    "        if directed:\n",
    "            G = nx.DiGraph()\n",
    "        with open(filename) as f:\n",
    "            if header:\n",
    "                next(f)\n",
    "            for line in f:\n",
    "                splitted = line.strip().split(sep) #reads the nodes\n",
    "                u = splitted[0]\n",
    "                v = splitted[1]\n",
    "                G.add_edge(u, v) #add a edge between the 2 nodes\n",
    "                if weights: #add the weights\n",
    "                    w = float(splitted[2])\n",
    "                    G[u][v]['weight'] = w\n",
    "        self.graph = G\n",
    "        return self.graph\n",
    "\n",
    "    def read_graphml(self, filename):\n",
    "        '''Read graph from graphml format.'''\n",
    "        self.graph = nx.read_graphml(filename)\n",
    "        return self.graph\n",
    "\n",
    "    def create_random_walk_graph(self):\n",
    "        '''Creates a probabilistic graph from graph.\n",
    "        If edges have parameter \"weight\" then it will use the weights in computing probabilities.'''\n",
    "        if self.graph is None:\n",
    "            raise ValueError(\"You should first create a weighted graph.\")\n",
    "\n",
    "        label_name = 'weight'\n",
    "\n",
    "        RW = nx.DiGraph()\n",
    "        for node in self.graph:\n",
    "            edges = self.graph[node]\n",
    "            total = float(sum([edges[v].get(label_name, 1) for v in edges if v != node]))\n",
    "            for v in edges:\n",
    "                if v != node:\n",
    "                    RW.add_edge(node, v, weight = edges[v].get(label_name,1) / total)\n",
    "        self.rw_graph = RW\n",
    "\n",
    "    def _all_paths(self, steps, keep_last = False):\n",
    "        '''Get all possible anonymous walks of length up to steps.'''\n",
    "        paths = []\n",
    "        last_step_paths = [[0, 1]]\n",
    "        for i in range(2, steps+1):\n",
    "            current_step_paths = []\n",
    "            for j in range(i + 1):\n",
    "                for walks in last_step_paths:\n",
    "                    if walks[-1] != j and j <= max(walks) + 1:\n",
    "                        paths.append(walks + [j])\n",
    "                        current_step_paths.append(walks + [j])\n",
    "            last_step_paths = current_step_paths\n",
    "        if keep_last:\n",
    "            paths = list(filter(lambda path: len(path) ==  steps + 1, paths))\n",
    "        self.paths[steps] = paths\n",
    "\n",
    "    def walk2pattern(self, walk):\n",
    "        '''Converts a walk with arbitrary nodes to anonymous walks, without considering labels.'''\n",
    "        idx = 0\n",
    "        pattern = []\n",
    "        d = dict()\n",
    "        for node in walk:\n",
    "            if node not in d:\n",
    "                d[node] = idx #the node gets the index idx\n",
    "                idx += 1\n",
    "            pattern.append(d[node])\n",
    "        return tuple(pattern)\n",
    "\n",
    "    def _random_walk_node(self, node, steps):\n",
    "        '''Creates anonymous walk from a node for arbitrary steps.\n",
    "        Returns a tuple with consequent nodes.'''\n",
    "        d = dict()\n",
    "        d[node] = 0\n",
    "        count = 1\n",
    "        walk = [d[node]]\n",
    "        for i in range(steps):\n",
    "            v = self._random_step_node(node)\n",
    "            if v not in d:\n",
    "                d[v] = count\n",
    "                count += 1\n",
    "            walk.append(d[v])\n",
    "            node = v\n",
    "        return tuple(walk)\n",
    "    \n",
    "    def _random_step_node(self, node):\n",
    "        '''Moves one step from the current node to a random neighbor node.\n",
    "        Return next node.'''\n",
    "        if self.rw_graph is None:\n",
    "            raise ValueError(\"Create a Random Walk graph first with {}\".format(self.create_random_walk_graph.__name__))\n",
    "        walk = [node]\n",
    "        nneighbors = [node2 for node2 in self.rw_graph.neighbors(walk[-1])]\n",
    "        if len(nneighbors) > 0:\n",
    "            walk = walk + random.sample(nneighbors, 1)\n",
    "        walk = [str(w) for w in walk]\n",
    "        return int(walk[-1])\n",
    "\n",
    "    def _anonymous_walk(self, node, steps, labels = None):\n",
    "        '''Creates anonymous walk for a node.'''\n",
    "        if labels is None:\n",
    "            return self._random_walk_node(node, steps)\n",
    "\n",
    "    def _exact(self, steps, labels = None, prop = True, verbose = True):\n",
    "        '''Find anonymous walk distribution exactly.\n",
    "        Returns dictionary pattern to probability.'''\n",
    "        walks = dict() #all walks that happend and the probability of them happening\n",
    "        all_walks = [] #all possible unique walks to the specified length\n",
    "\n",
    "        def patterns(RW, node, steps, walks, current_walk=None, current_dist=1.):\n",
    "            # RW is a graph of random walks\n",
    "            if current_walk is None:\n",
    "                current_walk = [node]  #adding the node to curren walk\n",
    "            if len(current_walk) > 1: \n",
    "                all_walks.append(current_walk) #adding current walk to all walks\n",
    "                if labels is None:\n",
    "                    w2p = self.walk2pattern(current_walk) #transforms a walk to a anonymous walk if labels in None\n",
    "                else:\n",
    "                    raise ValueError('labels argument should be None.')\n",
    "                amount = current_dist #current  dist in 1 at the beginning\n",
    "                if prop:\n",
    "                    amount /= len(RW) #if prop is true, we normalize amount\n",
    "                walks[w2p] = walks.get(w2p, 0) + amount  #if w2p does not exist pe put 0 and add amount\n",
    "            if steps > 0:\n",
    "                for v in RW[node]:\n",
    "                    patterns(RW, v, steps - 1, walks, current_walk + [v], current_dist * RW[node][v]['weight'])\n",
    "                    #we apply the function recursive\n",
    "\n",
    "        for node in self.rw_graph:\n",
    "            patterns(self.rw_graph, node, steps, walks) #we apply patterns for every node\n",
    "        if verbose:\n",
    "            print('Total walks of size {} in a graph:'.format(steps), len(all_walks))\n",
    "        return walks\n",
    "    \n",
    "    def embed(self, steps, method = 'exact', prop=True, labels = None, keep_last = False, verbose = True):\n",
    "        '''Get embeddings of a graph using anonymous walk distribution.\n",
    "        Return vector and meta information as dictionary.'''\n",
    "\n",
    "        # Create a random walk instance of the graph first\n",
    "        self.create_random_walk_graph()\n",
    "\n",
    "        if labels is None:\n",
    "            self._all_paths(steps, keep_last) #Get all possible anonymous walks of length = steps\n",
    "        else:\n",
    "            raise ValueError('labels argument should be None.')\n",
    "\n",
    "        if method == 'exact':\n",
    "            if verbose:\n",
    "                print(\"Use exact method to get vector representation.\")\n",
    "            start = time.time()\n",
    "            patterns = self._exact(steps, labels = labels, prop=prop, verbose=verbose)\n",
    "            finish = time.time()\n",
    "            if verbose:\n",
    "                print('Spent {} sec to get vector representation via exact method.'.format(round(finish - start, 2)))\n",
    "        else:\n",
    "            raise ValueError(\"Wrong method for AnonymousWalks.\")\n",
    "\n",
    "\n",
    "        vector = []\n",
    "        if verbose:\n",
    "            print(patterns)\n",
    "        for path in self.paths[steps]:\n",
    "            vector.append(patterns.get(tuple(path), 0))\n",
    "        return vector, {'meta-paths': self.paths[steps]}\n",
    "\n",
    "        "
   ]
  },
  {
   "cell_type": "code",
   "execution_count": 187,
   "id": "095eb1a3-1d10-4b9b-808e-a7b64f2f5e13",
   "metadata": {},
   "outputs": [],
   "source": [
    "class GraphKernel(object):\n",
    "    ''' Reading graphs from the files. '''\n",
    "    def __init__(self, graphs = None):\n",
    "        self.gv = AnonymousWalks()\n",
    "        self.graphs = graphs\n",
    "        self.__methods = ['linear', 'rbf', 'poly']\n",
    "        \n",
    "    def read_graphs(self, filenames = None, folder = None, ext = None, header=True, weights=True, sep=',', directed=False):\n",
    "        '''Read graph from the list of files or from the folder.\n",
    "        If filenames is not None, then read graphs from the list in filenames.\n",
    "        Then, if folder is not None, then read files from the folder. \n",
    "        If extension is specified, then read only files with this extension.\n",
    "        If folder is not None, then filenames should be named as follows graph0.graphml \n",
    "        and should follow the same order as in labels.txt'''\n",
    "        \n",
    "        if filenames is None and folder is None:\n",
    "            raise ValueError(\"You should provide list of filenames or folder with graphs\")\n",
    "        if filenames is not None:\n",
    "            self.graphs = []\n",
    "            for filename in filenames:\n",
    "                if filename.split('.')[-1] == 'graphml':\n",
    "                    G = self.gv.read_graphml(folder + '/' + filename)\n",
    "                else:\n",
    "                    G = self.gv.read_graph_from_text(folder + '/' + filename, header, weights, sep, directed)\n",
    "                self.graphs.append(G)\n",
    "        elif folder is not None:\n",
    "            self.graphs = []\n",
    "            # have the same order of graphs as in labels.txt\n",
    "            folder_graphs = filter(lambda g: g.endswith(max(ext, '')), os.listdir(folder))\n",
    "            sorted_graphs = sorted(folder_graphs, key=lambda g: int(re.findall(r'\\d+', g)[0]))\n",
    "            for item in sorted_graphs:\n",
    "                if ext is not None:\n",
    "                    if item.split('.')[-1] == ext:\n",
    "                        if ext == 'graphml':\n",
    "                            G = self.gv.read_graphml(folder + '/' + item)\n",
    "                        else:\n",
    "                            G = self.gv.read_graph_from_text(folder + '/' + item, header, weights, sep, directed)\n",
    "                        self.graphs.append(G)\n",
    "                else:\n",
    "                    if item.split('.')[-1] == 'graphml':\n",
    "                        G = self.gv.read_graphml(folder + '/' + item)\n",
    "                    else:\n",
    "                        G = self.gv.read_graph_from_text(folder + '/' + item, header, weights, sep, directed)\n",
    "                    self.graphs.append(G)"
   ]
  },
  {
   "cell_type": "code",
   "execution_count": 188,
   "id": "be7cd82e-0034-4284-8d32-c140088df394",
   "metadata": {},
   "outputs": [
    {
     "name": "stdout",
     "output_type": "stream",
     "text": [
      "Number of graphs: 188\n",
      "\n",
      "Graph with 23 nodes and 27 edges\n"
     ]
    }
   ],
   "source": [
    "gk = GraphKernel()\n",
    "gk.read_graphs(folder = 'Datasets/mutag', ext = 'graphml')\n",
    "\n",
    "print('Number of graphs: {}'.format(len(gk.graphs)))\n",
    "print()\n",
    "print(gk.graphs[100])"
   ]
  },
  {
   "cell_type": "markdown",
   "id": "e79ec80a-4775-40df-ac19-b7c8960c1030",
   "metadata": {},
   "source": [
    "### The Graph we use"
   ]
  },
  {
   "cell_type": "code",
   "execution_count": 189,
   "id": "ccba891d-c7ec-4fa9-b9bc-17aea58c0c65",
   "metadata": {},
   "outputs": [],
   "source": [
    "G = gk.graphs[100]"
   ]
  },
  {
   "cell_type": "code",
   "execution_count": 190,
   "id": "994ea481-0748-4ff1-880d-d2936f68e0a0",
   "metadata": {},
   "outputs": [
    {
     "data": {
      "image/png": "[encoded data removed]",
      "text/plain": [
       "<Figure size 432x288 with 1 Axes>"
      ]
     },
     "metadata": {},
     "output_type": "display_data"
    }
   ],
   "source": [
    "nx.draw_networkx(G, pos = nx.kamada_kawai_layout(G))"
   ]
  },
  {
   "cell_type": "markdown",
   "id": "c3038a91-f9db-4c56-ba67-a99066cd9fc1",
   "metadata": {},
   "source": [
    "### One random walk of lenght 4 starting from node \"n0\""
   ]
  },
  {
   "cell_type": "code",
   "execution_count": 191,
   "id": "6dd0c56e-d4e7-4ad8-a604-03714f7d15ec",
   "metadata": {},
   "outputs": [
    {
     "data": {
      "text/plain": [
       "['n0', 'n5', 'n0', 'n1', 'n0']"
      ]
     },
     "execution_count": 191,
     "metadata": {},
     "output_type": "execute_result"
    }
   ],
   "source": [
    "b = RandomWalker(4,2,G)\n",
    "b.do_walk('n0')"
   ]
  },
  {
   "cell_type": "markdown",
   "id": "0cbd21fa-f741-4453-9b9d-b56074313498",
   "metadata": {},
   "source": [
    "### Two random walks of lenght 4 starting from each node"
   ]
  },
  {
   "cell_type": "code",
   "execution_count": 192,
   "id": "dcb4cab0-a56f-4fb3-be5b-885fccd71dca",
   "metadata": {},
   "outputs": [
    {
     "data": {
      "text/plain": [
       "[['n0', 'n5', 'n4', 'n5', 'n4'],\n",
       " ['n0', 'n1', 'n2', 'n3', 'n17'],\n",
       " ['n1', 'n0', 'n5', 'n4', 'n3'],\n",
       " ['n1', 'n2', 'n1', 'n2', 'n3'],\n",
       " ['n2', 'n3', 'n2', 'n1', 'n0'],\n",
       " ['n2', 'n3', 'n17', 'n16', 'n17'],\n",
       " ['n3', 'n17', 'n3', 'n4', 'n5'],\n",
       " ['n3', 'n4', 'n5', 'n0', 'n1'],\n",
       " ['n4', 'n5', 'n4', 'n6', 'n7'],\n",
       " ['n4', 'n6', 'n7', 'n16', 'n7'],\n",
       " ['n5', 'n4', 'n3', 'n4', 'n6'],\n",
       " ['n5', 'n4', 'n6', 'n7', 'n6'],\n",
       " ['n6', 'n7', 'n6', 'n4', 'n6'],\n",
       " ['n6', 'n4', 'n6', 'n7', 'n6'],\n",
       " ['n7', 'n6', 'n7', 'n16', 'n15'],\n",
       " ['n7', 'n16', 'n17', 'n3', 'n4'],\n",
       " ['n8', 'n9', 'n8', 'n9', 'n10'],\n",
       " ['n8', 'n7', 'n8', 'n9', 'n10'],\n",
       " ['n9', 'n8', 'n7', 'n16', 'n7'],\n",
       " ['n9', 'n8', 'n7', 'n6', 'n4'],\n",
       " ['n10', 'n11', 'n20', 'n21', 'n20'],\n",
       " ['n10', 'n15', 'n16', 'n17', 'n3'],\n",
       " ['n11', 'n10', 'n15', 'n10', 'n9'],\n",
       " ['n11', 'n10', 'n15', 'n14', 'n13'],\n",
       " ['n12', 'n13', 'n12', 'n13', 'n14'],\n",
       " ['n12', 'n11', 'n10', 'n9', 'n10'],\n",
       " ['n13', 'n14', 'n13', 'n14', 'n15'],\n",
       " ['n13', 'n12', 'n11', 'n20', 'n21'],\n",
       " ['n14', 'n19', 'n18', 'n19', 'n14'],\n",
       " ['n14', 'n19', 'n14', 'n13', 'n14'],\n",
       " ['n15', 'n16', 'n17', 'n18', 'n17'],\n",
       " ['n15', 'n14', 'n13', 'n14', 'n19'],\n",
       " ['n16', 'n15', 'n10', 'n11', 'n10'],\n",
       " ['n16', 'n17', 'n18', 'n19', 'n14'],\n",
       " ['n17', 'n16', 'n15', 'n14', 'n19'],\n",
       " ['n17', 'n18', 'n17', 'n16', 'n15'],\n",
       " ['n18', 'n19', 'n14', 'n15', 'n10'],\n",
       " ['n18', 'n17', 'n18', 'n17', 'n3'],\n",
       " ['n19', 'n14', 'n19', 'n14', 'n13'],\n",
       " ['n19', 'n18', 'n17', 'n16', 'n17'],\n",
       " ['n20', 'n11', 'n10', 'n15', 'n14'],\n",
       " ['n20', 'n21', 'n20', 'n21', 'n20'],\n",
       " ['n21', 'n20', 'n21', 'n20', 'n22'],\n",
       " ['n21', 'n20', 'n11', 'n12', 'n11'],\n",
       " ['n22', 'n20', 'n21', 'n20', 'n22'],\n",
       " ['n22', 'n20', 'n11', 'n12', 'n11']]"
      ]
     },
     "execution_count": 192,
     "metadata": {},
     "output_type": "execute_result"
    }
   ],
   "source": [
    "b.do_walks(G)"
   ]
  },
  {
   "cell_type": "markdown",
   "id": "145111c4-4f74-4066-9e26-68840dec1ff9",
   "metadata": {},
   "source": [
    "### All possible anonymous walks of length 3"
   ]
  },
  {
   "cell_type": "code",
   "execution_count": 193,
   "id": "54395292-df66-40e6-8347-d621b544d457",
   "metadata": {},
   "outputs": [
    {
     "name": "stdout",
     "output_type": "stream",
     "text": [
      "All possible anonymous walks of length 3 \n",
      "[[0, 1, 2, 0], [0, 1, 0, 1], [0, 1, 2, 1], [0, 1, 0, 2], [0, 1, 2, 3]]\n"
     ]
    }
   ],
   "source": [
    "awe = AnonymousWalks(G)\n",
    "length = 3 # length of anonymous walks\n",
    "\n",
    "awe._all_paths(steps=length, keep_last = True)\n",
    "print('All possible anonymous walks of length {} '.format(length))\n",
    "print(awe.paths[length])"
   ]
  },
  {
   "cell_type": "markdown",
   "id": "2e7abd31-1c37-4f2f-a5d0-d9dec66ad4b7",
   "metadata": {},
   "source": [
    "### The Random Walk graph"
   ]
  },
  {
   "cell_type": "code",
   "execution_count": 200,
   "id": "ff8a467a-327a-4454-ae34-dae4f4ea07d7",
   "metadata": {},
   "outputs": [
    {
     "data": {
      "image/png": "[encoded data removed]",
      "text/plain": [
       "<Figure size 432x288 with 1 Axes>"
      ]
     },
     "metadata": {},
     "output_type": "display_data"
    }
   ],
   "source": [
    "nx.draw_networkx(awe.rw_graph, pos = nx.kamada_kawai_layout(awe.rw_graph))"
   ]
  },
  {
   "cell_type": "markdown",
   "id": "f6a5a860-f5ed-4eb3-ba5f-6a66c2469221",
   "metadata": {},
   "source": [
    "### The probability of an anonymous walk of length 3 being in the RW graph"
   ]
  },
  {
   "cell_type": "code",
   "execution_count": 195,
   "id": "161cfa1b-8be0-486c-96e6-c28ac9049592",
   "metadata": {},
   "outputs": [
    {
     "name": "stdout",
     "output_type": "stream",
     "text": [
      "The probability of an anonymous walk being in the graph:\n",
      "[0, 0.1932367149758453, 0.2544283413848631, 0.22705314009661837, 0.3252818035426736]\n",
      "\n",
      "Anonymous Walks of length 3:\n",
      "[[0, 1, 2, 0], [0, 1, 0, 1], [0, 1, 2, 1], [0, 1, 0, 2], [0, 1, 2, 3]]\n"
     ]
    }
   ],
   "source": [
    "length = 3\n",
    "embedding, meta = awe.embed(steps = length, method = 'exact', keep_last=True, verbose=False)\n",
    "\n",
    "aws = meta['meta-paths']\n",
    "print('The probability of an anonymous walk being in the graph:')\n",
    "print(embedding)\n",
    "print()\n",
    "print('Anonymous Walks of length {}:'.format(length))\n",
    "print(aws)"
   ]
  },
  {
   "cell_type": "code",
   "execution_count": 196,
   "id": "04180ff6-8bc6-4cdd-a028-0d188666ebce",
   "metadata": {},
   "outputs": [
    {
     "data": {
      "text/plain": [
       "[<matplotlib.lines.Line2D at 0x2914e4b2670>]"
      ]
     },
     "execution_count": 196,
     "metadata": {},
     "output_type": "execute_result"
    },
    {
     "data": {
      "image/png": "[encoded data removed]",
      "text/plain": [
       "<Figure size 432x288 with 1 Axes>"
      ]
     },
     "metadata": {
      "needs_background": "light"
     },
     "output_type": "display_data"
    }
   ],
   "source": [
    "plt.plot(embedding)"
   ]
  },
  {
   "cell_type": "markdown",
   "id": "556d31c6-8295-4f5f-b7a0-53fde2a95461",
   "metadata": {},
   "source": [
    "### All possible anonymous walks of length 4"
   ]
  },
  {
   "cell_type": "code",
   "execution_count": 208,
   "id": "cce1ed35-e693-4911-a219-1c0022ee3830",
   "metadata": {},
   "outputs": [
    {
     "name": "stdout",
     "output_type": "stream",
     "text": [
      "All possible anonymous walks of length 4 \n",
      "[[0, 1, 0, 1, 0], [0, 1, 2, 1, 0], [0, 1, 0, 2, 0], [0, 1, 2, 3, 0], [0, 1, 2, 0, 1], [0, 1, 0, 2, 1], [0, 1, 2, 3, 1], [0, 1, 2, 0, 2], [0, 1, 0, 1, 2], [0, 1, 2, 1, 2], [0, 1, 2, 3, 2], [0, 1, 2, 0, 3], [0, 1, 2, 1, 3], [0, 1, 0, 2, 3], [0, 1, 2, 3, 4]]\n"
     ]
    }
   ],
   "source": [
    "awe2 = AnonymousWalks(G)\n",
    "length = 4 # length of anonymous walks\n",
    "\n",
    "awe2._all_paths(steps=length, keep_last = True)\n",
    "print('All possible anonymous walks of length {} '.format(length))\n",
    "print(awe2.paths[length])"
   ]
  },
  {
   "cell_type": "markdown",
   "id": "bd45b94e-a428-4eef-8da6-fd754b003205",
   "metadata": {},
   "source": [
    "### The Random Walk graph"
   ]
  },
  {
   "cell_type": "code",
   "execution_count": 214,
   "id": "bff9dbbd-a147-4f13-aa69-63ff3eb15d66",
   "metadata": {},
   "outputs": [
    {
     "data": {
      "image/png": "[encoded data removed]",
      "text/plain": [
       "<Figure size 432x288 with 1 Axes>"
      ]
     },
     "metadata": {},
     "output_type": "display_data"
    }
   ],
   "source": [
    "nx.draw_networkx(awe.rw_graph, pos = nx.kamada_kawai_layout(awe.rw_graph))"
   ]
  },
  {
   "cell_type": "markdown",
   "id": "708ae446-70a1-4b1b-af8a-fe6b8d771b56",
   "metadata": {},
   "source": [
    "### The probability of an anonymous walk of length 4 being in the RW graph"
   ]
  },
  {
   "cell_type": "code",
   "execution_count": 182,
   "id": "b9031ceb-3680-41d0-988c-ea51d23e320f",
   "metadata": {},
   "outputs": [
    {
     "name": "stdout",
     "output_type": "stream",
     "text": [
      "The probability of an anonymous walk being in the graph:\n",
      "[0.08574879227053141, 0.09889962426194307, 0.09889962426194303, 0, 0, 0, 0, 0, 0.10748792270531404, 0.09889962426194307, 0.1369431025228128, 0, 0.0566290928609769, 0.12815351583467527, 0.18833870101986094]\n",
      "\n",
      "Anonymous Walks of length 4:\n",
      "[[0, 1, 0, 1, 0], [0, 1, 2, 1, 0], [0, 1, 0, 2, 0], [0, 1, 2, 3, 0], [0, 1, 2, 0, 1], [0, 1, 0, 2, 1], [0, 1, 2, 3, 1], [0, 1, 2, 0, 2], [0, 1, 0, 1, 2], [0, 1, 2, 1, 2], [0, 1, 2, 3, 2], [0, 1, 2, 0, 3], [0, 1, 2, 1, 3], [0, 1, 0, 2, 3], [0, 1, 2, 3, 4]]\n"
     ]
    }
   ],
   "source": [
    "length = 4\n",
    "embedding, meta = awe2.embed(steps = length, method = 'exact', keep_last=True, verbose=False)\n",
    "\n",
    "aws = meta['meta-paths']\n",
    "print('The probability of an anonymous walk being in the graph:')\n",
    "print(embedding)\n",
    "print()\n",
    "print('Anonymous Walks of length {}:'.format(length))\n",
    "print(aws)"
   ]
  },
  {
   "cell_type": "code",
   "execution_count": 142,
   "id": "0c566212-efff-45a2-b629-8a3497541971",
   "metadata": {},
   "outputs": [
    {
     "data": {
      "text/plain": [
       "[<matplotlib.lines.Line2D at 0x2914f595250>]"
      ]
     },
     "execution_count": 142,
     "metadata": {},
     "output_type": "execute_result"
    },
    {
     "data": {
      "image/png": "[encoded data removed]",
      "text/plain": [
       "<Figure size 432x288 with 1 Axes>"
      ]
     },
     "metadata": {
      "needs_background": "light"
     },
     "output_type": "display_data"
    }
   ],
   "source": [
    "plt.plot(embedding)"
   ]
  },
  {
   "cell_type": "code",
   "execution_count": null,
   "id": "7340c221-2b00-4e92-9c24-cbb7f8cf34a2",
   "metadata": {},
   "outputs": [],
   "source": []
  },
  {
   "cell_type": "code",
   "execution_count": null,
   "id": "55be375e-1b48-4b4d-bd77-cd067571fedd",
   "metadata": {},
   "outputs": [],
   "source": []
  }
 ],
 "metadata": {
  "kernelspec": {
   "display_name": "Python 3 (ipykernel)",
   "language": "python",
   "name": "python3"
  },
  "language_info": {
   "codemirror_mode": {
    "name": "ipython",
    "version": 3
   },
   "file_extension": ".py",
   "mimetype": "text/x-python",
   "name": "python",
   "nbconvert_exporter": "python",
   "pygments_lexer": "ipython3",
   "version": "3.9.7"
  }
 },
 "nbformat": 4,
 "nbformat_minor": 5
}
